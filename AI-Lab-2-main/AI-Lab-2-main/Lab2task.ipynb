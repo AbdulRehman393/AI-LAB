{
  "nbformat": 4,
  "nbformat_minor": 0,
  "metadata": {
    "colab": {
      "provenance": []
    },
    "kernelspec": {
      "name": "python3",
      "display_name": "Python 3"
    },
    "language_info": {
      "name": "python"
    }
  },
  "cells": [
    {
      "cell_type": "markdown",
      "source": [
        "1. Matplotlib"
      ],
      "metadata": {
        "id": "z1CjB8dGEFUO"
      }
    },
    {
      "cell_type": "markdown",
      "source": [
        "2. Numpy"
      ],
      "metadata": {
        "id": "N33TkLATEI4s"
      }
    },
    {
      "cell_type": "code",
      "source": [],
      "metadata": {
        "id": "YifJbkNoMNGI"
      },
      "execution_count": null,
      "outputs": []
    },
    {
      "cell_type": "markdown",
      "source": [
        "3. List"
      ],
      "metadata": {
        "id": "HIgu-s7XEYFV"
      }
    },
    {
      "cell_type": "code",
      "source": [
        "#Creating List\n",
        "numbers = [1,2,3,4,5,6,7,8,9,10]\n",
        "total = sum(numbers)\n",
        "maximum = max(numbers)\n",
        "minimum = min(numbers)\n",
        "print(f\"Sum: {total}\")\n",
        "print(f\"Maximum: {maximum}\")\n",
        "print(f\"Minimum: {minimum}\")\n",
        "\n",
        "#Add and Remove\n",
        "numbers.append(3)\n",
        "numbers.remove(5)\n",
        "print(f\"Updated List: {numbers}\")\n",
        "\n",
        "\n",
        "# Sorting - Ascending Order\n",
        "numbers_ascending = sorted(numbers)  # Creates new sorted list\n",
        "print(f\"Ascending Order: {numbers_ascending}\")\n",
        "\n",
        "# Sorting - Descending Order\n",
        "numbers_descending = sorted(numbers, reverse=True)  # Creates new sorted list in reverse\n",
        "print(f\"Descending Order: {numbers_descending}\")\n",
        "\n"
      ],
      "metadata": {
        "colab": {
          "base_uri": "https://localhost:8080/",
          "height": 217
        },
        "id": "Gmz6KVxRY-KJ",
        "outputId": "ee352457-1b1d-48ac-cc9d-4326ec86edfe"
      },
      "execution_count": 42,
      "outputs": [
        {
          "output_type": "error",
          "ename": "TypeError",
          "evalue": "'int' object is not callable",
          "traceback": [
            "\u001b[0;31m---------------------------------------------------------------------------\u001b[0m",
            "\u001b[0;31mTypeError\u001b[0m                                 Traceback (most recent call last)",
            "\u001b[0;32m/tmp/ipython-input-3455265406.py\u001b[0m in \u001b[0;36m<cell line: 0>\u001b[0;34m()\u001b[0m\n\u001b[1;32m      1\u001b[0m \u001b[0;31m#Creating List\u001b[0m\u001b[0;34m\u001b[0m\u001b[0;34m\u001b[0m\u001b[0m\n\u001b[1;32m      2\u001b[0m \u001b[0mnumbers\u001b[0m \u001b[0;34m=\u001b[0m \u001b[0;34m[\u001b[0m\u001b[0;36m1\u001b[0m\u001b[0;34m,\u001b[0m\u001b[0;36m2\u001b[0m\u001b[0;34m,\u001b[0m\u001b[0;36m3\u001b[0m\u001b[0;34m,\u001b[0m\u001b[0;36m4\u001b[0m\u001b[0;34m,\u001b[0m\u001b[0;36m5\u001b[0m\u001b[0;34m,\u001b[0m\u001b[0;36m6\u001b[0m\u001b[0;34m,\u001b[0m\u001b[0;36m7\u001b[0m\u001b[0;34m,\u001b[0m\u001b[0;36m8\u001b[0m\u001b[0;34m,\u001b[0m\u001b[0;36m9\u001b[0m\u001b[0;34m,\u001b[0m\u001b[0;36m10\u001b[0m\u001b[0;34m]\u001b[0m\u001b[0;34m\u001b[0m\u001b[0;34m\u001b[0m\u001b[0m\n\u001b[0;32m----> 3\u001b[0;31m \u001b[0mtotal\u001b[0m \u001b[0;34m=\u001b[0m \u001b[0msum\u001b[0m\u001b[0;34m(\u001b[0m\u001b[0mnumbers\u001b[0m\u001b[0;34m)\u001b[0m\u001b[0;34m\u001b[0m\u001b[0;34m\u001b[0m\u001b[0m\n\u001b[0m\u001b[1;32m      4\u001b[0m \u001b[0mmaximum\u001b[0m \u001b[0;34m=\u001b[0m \u001b[0mmax\u001b[0m\u001b[0;34m(\u001b[0m\u001b[0mnumbers\u001b[0m\u001b[0;34m)\u001b[0m\u001b[0;34m\u001b[0m\u001b[0;34m\u001b[0m\u001b[0m\n\u001b[1;32m      5\u001b[0m \u001b[0mminimum\u001b[0m \u001b[0;34m=\u001b[0m \u001b[0mmin\u001b[0m\u001b[0;34m(\u001b[0m\u001b[0mnumbers\u001b[0m\u001b[0;34m)\u001b[0m\u001b[0;34m\u001b[0m\u001b[0;34m\u001b[0m\u001b[0m\n",
            "\u001b[0;31mTypeError\u001b[0m: 'int' object is not callable"
          ]
        }
      ]
    },
    {
      "cell_type": "markdown",
      "source": [
        "4. Tuple\n"
      ],
      "metadata": {
        "id": "g6c4AMXlEca0"
      }
    },
    {
      "cell_type": "code",
      "source": [
        "fruits =(\"Apples\",\"Mangoes\",\"Banana\",\"Grapes\",\"Oranges\")\n",
        "print(f\"Second Element: {fruits[1]}\")\n",
        "print(f\"Last Element: {fruits[-1]}\")\n",
        "# fruits[1]=\"Watermelon\"  # tuple is immutable\n",
        "fruit_list = list(fruits)\n",
        "fruit_list[1]=\"Watermelon\"\n",
        "fruits = tuple(fruit_list)\n",
        "print(fruits)\n"
      ],
      "metadata": {
        "colab": {
          "base_uri": "https://localhost:8080/",
          "height": 252
        },
        "id": "n-8c_4ivMOrO",
        "outputId": "bfd1e14c-d4c2-4aa8-aeb1-15d606879e1d"
      },
      "execution_count": 28,
      "outputs": [
        {
          "output_type": "stream",
          "name": "stdout",
          "text": [
            "Second Element: Mangoes\n",
            "Last Element: Oranges\n"
          ]
        },
        {
          "output_type": "error",
          "ename": "TypeError",
          "evalue": "'list' object is not callable",
          "traceback": [
            "\u001b[0;31m---------------------------------------------------------------------------\u001b[0m",
            "\u001b[0;31mTypeError\u001b[0m                                 Traceback (most recent call last)",
            "\u001b[0;32m/tmp/ipython-input-1309493529.py\u001b[0m in \u001b[0;36m<cell line: 0>\u001b[0;34m()\u001b[0m\n\u001b[1;32m      3\u001b[0m \u001b[0mprint\u001b[0m\u001b[0;34m(\u001b[0m\u001b[0;34mf\"Last Element: {fruits[-1]}\"\u001b[0m\u001b[0;34m)\u001b[0m\u001b[0;34m\u001b[0m\u001b[0;34m\u001b[0m\u001b[0m\n\u001b[1;32m      4\u001b[0m \u001b[0;31m# fruits[1]=\"Watermelon\"  # tuple is immutable\u001b[0m\u001b[0;34m\u001b[0m\u001b[0;34m\u001b[0m\u001b[0m\n\u001b[0;32m----> 5\u001b[0;31m \u001b[0mfruit_list\u001b[0m \u001b[0;34m=\u001b[0m \u001b[0mlist\u001b[0m\u001b[0;34m(\u001b[0m\u001b[0mfruits\u001b[0m\u001b[0;34m)\u001b[0m\u001b[0;34m\u001b[0m\u001b[0;34m\u001b[0m\u001b[0m\n\u001b[0m\u001b[1;32m      6\u001b[0m \u001b[0mfruit_list\u001b[0m\u001b[0;34m[\u001b[0m\u001b[0;36m1\u001b[0m\u001b[0;34m]\u001b[0m\u001b[0;34m=\u001b[0m\u001b[0;34m\"Watermelon\"\u001b[0m\u001b[0;34m\u001b[0m\u001b[0;34m\u001b[0m\u001b[0m\n\u001b[1;32m      7\u001b[0m \u001b[0mfruits\u001b[0m \u001b[0;34m=\u001b[0m \u001b[0mtuple\u001b[0m\u001b[0;34m(\u001b[0m\u001b[0mfruit_list\u001b[0m\u001b[0;34m)\u001b[0m\u001b[0;34m\u001b[0m\u001b[0;34m\u001b[0m\u001b[0m\n",
            "\u001b[0;31mTypeError\u001b[0m: 'list' object is not callable"
          ]
        }
      ]
    },
    {
      "cell_type": "code",
      "source": [
        "fruits = (\"Apples\",\"Mangoes\",\"Banana\",\"Grapes\",\"Oranges\")\n",
        "print(f\"Second Element: {fruits[1]}\")\n",
        "\n",
        "fruits_list =list(fruits)\n",
        "fruits_list[1]=\"Watermelon\"\n",
        "\n",
        "print(fruits)"
      ],
      "metadata": {
        "colab": {
          "base_uri": "https://localhost:8080/",
          "height": 234
        },
        "id": "C6oBib-BPnVH",
        "outputId": "a66ff040-a056-4485-d0b6-b4f4beee10f5"
      },
      "execution_count": 29,
      "outputs": [
        {
          "output_type": "stream",
          "name": "stdout",
          "text": [
            "Second Element: Mangoes\n"
          ]
        },
        {
          "output_type": "error",
          "ename": "TypeError",
          "evalue": "'list' object is not callable",
          "traceback": [
            "\u001b[0;31m---------------------------------------------------------------------------\u001b[0m",
            "\u001b[0;31mTypeError\u001b[0m                                 Traceback (most recent call last)",
            "\u001b[0;32m/tmp/ipython-input-1778466964.py\u001b[0m in \u001b[0;36m<cell line: 0>\u001b[0;34m()\u001b[0m\n\u001b[1;32m      2\u001b[0m \u001b[0mprint\u001b[0m\u001b[0;34m(\u001b[0m\u001b[0;34mf\"Second Element: {fruits[1]}\"\u001b[0m\u001b[0;34m)\u001b[0m\u001b[0;34m\u001b[0m\u001b[0;34m\u001b[0m\u001b[0m\n\u001b[1;32m      3\u001b[0m \u001b[0;34m\u001b[0m\u001b[0m\n\u001b[0;32m----> 4\u001b[0;31m \u001b[0mfruits_list\u001b[0m \u001b[0;34m=\u001b[0m\u001b[0mlist\u001b[0m\u001b[0;34m(\u001b[0m\u001b[0mfruits\u001b[0m\u001b[0;34m)\u001b[0m\u001b[0;34m\u001b[0m\u001b[0;34m\u001b[0m\u001b[0m\n\u001b[0m\u001b[1;32m      5\u001b[0m \u001b[0mfruits_list\u001b[0m\u001b[0;34m[\u001b[0m\u001b[0;36m1\u001b[0m\u001b[0;34m]\u001b[0m\u001b[0;34m=\u001b[0m\u001b[0;34m\"Watermelon\"\u001b[0m\u001b[0;34m\u001b[0m\u001b[0;34m\u001b[0m\u001b[0m\n\u001b[1;32m      6\u001b[0m \u001b[0;34m\u001b[0m\u001b[0m\n",
            "\u001b[0;31mTypeError\u001b[0m: 'list' object is not callable"
          ]
        }
      ]
    },
    {
      "cell_type": "markdown",
      "source": [
        "5. Set"
      ],
      "metadata": {
        "id": "OWnKTO5KEg2z"
      }
    },
    {
      "cell_type": "code",
      "source": [
        "#Create Sets\n",
        "set_1 ={1,2,3,4}\n",
        "set_2 ={4,5,6,7,8}\n",
        "print(f\"Union: {set_1 | set_2}\")\n",
        "print(f\"Intersection: {set_1 & set_2}\")\n",
        "print(f\"Difference: {set_1-set_2}\")\n",
        "\n",
        "#Add and Remove\n",
        "set_1.add(5)\n",
        "set_2.remove(4)\n",
        "\n",
        "#Print Updated Sets\n",
        "print(set_1)\n",
        "print(set_2)\n",
        "\n"
      ],
      "metadata": {
        "colab": {
          "base_uri": "https://localhost:8080/"
        },
        "id": "yy4GGMttTbQl",
        "outputId": "038258b9-97e4-4bf7-9d0a-7af6d60b9984"
      },
      "execution_count": 34,
      "outputs": [
        {
          "output_type": "stream",
          "name": "stdout",
          "text": [
            "Union: {1, 2, 3, 4, 5, 6, 7, 8}\n",
            "Intersection: {4}\n",
            "Difference: {1, 2, 3}\n",
            "{1, 2, 3, 4, 5}\n",
            "{5, 6, 7, 8}\n"
          ]
        }
      ]
    },
    {
      "cell_type": "markdown",
      "source": [
        "6. Dictionary"
      ],
      "metadata": {
        "id": "df_CmR9oEiz8"
      }
    },
    {
      "cell_type": "code",
      "source": [
        "\n",
        "#Creating Dictionary\n",
        "students ={\"Ali\":88,\"Ahmad\":85,\"Bilal\":95,\"Fatima\":89,\"Faryal\":95}\n",
        "\n",
        "#Changing Value of key Ali\n",
        "students[\"Ali\"]=90;\n",
        "\n",
        "fruits = {\"Apple\",\"Apple\",\"Apple\"}\n",
        "\n",
        "print(students)\n",
        "\n"
      ],
      "metadata": {
        "colab": {
          "base_uri": "https://localhost:8080/"
        },
        "id": "MDkQ_ePFV3Ll",
        "outputId": "fe41b585-8978-4870-f240-d71903e86c58"
      },
      "execution_count": 35,
      "outputs": [
        {
          "output_type": "stream",
          "name": "stdout",
          "text": [
            "{'Ali': 90, 'Ahmad': 85, 'Bilal': 95, 'Fatima': 89, 'Faryal': 95}\n"
          ]
        }
      ]
    }
  ]
}