{
  "nbformat": 4,
  "nbformat_minor": 0,
  "metadata": {
    "colab": {
      "provenance": []
    },
    "kernelspec": {
      "name": "python3",
      "display_name": "Python 3"
    },
    "language_info": {
      "name": "python"
    }
  },
  "cells": [
    {
      "cell_type": "code",
      "execution_count": 3,
      "metadata": {
        "colab": {
          "base_uri": "https://localhost:8080/"
        },
        "id": "jJm__-9pE7QP",
        "outputId": "157e7497-6f70-465a-cbd4-7d36ac0da0fb"
      },
      "outputs": [
        {
          "output_type": "stream",
          "name": "stdout",
          "text": [
            "Available cities: ['Lahore', 'Islamabad', 'Faisalabad', 'Multan', 'Peshawar', 'Karachi']\n",
            "Enter start city: Lahore\n",
            "Enter goal city: Multan\n",
            "\n",
            "A* Path: Lahore -> Faisalabad -> Multan\n",
            "Total Cost: 410 km\n"
          ]
        }
      ],
      "source": [
        "import heapq  # Import heapq to use a priority queue (min-heap)\n",
        "\n",
        "# Weighted graph: each node maps to a dict of neighbors and edge costs (distances in km)\n",
        "graph = {\n",
        "    \"Lahore\": {\"Islamabad\": 280, \"Faisalabad\": 160},\n",
        "    \"Islamabad\": {\"Lahore\": 280, \"Peshawar\": 170, \"Multan\": 400},\n",
        "    \"Faisalabad\": {\"Lahore\": 160, \"Multan\": 250},\n",
        "    \"Multan\": {\"Faisalabad\": 250, \"Islamabad\": 400, \"Karachi\": 870},\n",
        "    \"Peshawar\": {\"Islamabad\": 170},\n",
        "    \"Karachi\": {\"Multan\": 870}\n",
        "}\n",
        "\n",
        "# Heuristic (straight-line estimated distance to Karachi) – must not overestimate\n",
        "heuristic = {\n",
        "    \"Lahore\": 1200,\n",
        "    \"Islamabad\": 1000,\n",
        "    \"Faisalabad\": 950,\n",
        "    \"Multan\": 800,\n",
        "    \"Peshawar\": 1250,\n",
        "    \"Karachi\": 0\n",
        "}\n",
        "\n",
        "def a_star(graph, start, goal, heuristic):\n",
        "    \"\"\"\n",
        "    A* search returns (path, total_cost) or (None, inf) if no path found.\n",
        "    \"\"\"\n",
        "    open_list = []\n",
        "    heapq.heappush(open_list, (heuristic[start], [start]))\n",
        "    g_costs = {start: 0}\n",
        "    closed_set = set()\n",
        "\n",
        "    while open_list:\n",
        "        f, path = heapq.heappop(open_list)\n",
        "        node = path[-1]\n",
        "\n",
        "        if node == goal:\n",
        "            return path, g_costs[node]\n",
        "\n",
        "        if node in closed_set:\n",
        "            continue\n",
        "\n",
        "        closed_set.add(node)\n",
        "\n",
        "        for neighbor, cost in graph[node].items():\n",
        "            tentative_g = g_costs[node] + cost\n",
        "            if neighbor not in g_costs or tentative_g < g_costs[neighbor]:\n",
        "                g_costs[neighbor] = tentative_g\n",
        "                f_cost = tentative_g + heuristic.get(neighbor, float('inf'))\n",
        "                new_path = path + [neighbor]\n",
        "                heapq.heappush(open_list, (f_cost, new_path))\n",
        "\n",
        "    return None, float('inf')\n",
        "\n",
        "\n",
        "if __name__ == \"__main__\":\n",
        "    # Take start and goal city from user\n",
        "    print(\"Available cities:\", list(graph.keys()))\n",
        "    start_city = input(\"Enter start city: \").strip()\n",
        "    goal_city = input(\"Enter goal city: \").strip()\n",
        "\n",
        "    if start_city not in graph or goal_city not in graph:\n",
        "        print(\"Error: Invalid city name.\")\n",
        "    else:\n",
        "        path, cost = a_star(graph, start_city, goal_city, heuristic)\n",
        "        if path:\n",
        "            print(\"\\nA* Path:\", \" -> \".join(path))\n",
        "            print(\"Total Cost:\", cost, \"km\")\n",
        "        else:\n",
        "            print(\"No path found between\", start_city, \"and\", goal_city)\n"
      ]
    }
  ]
}