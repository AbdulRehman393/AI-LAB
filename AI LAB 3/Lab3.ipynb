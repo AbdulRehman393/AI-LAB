{
  "nbformat": 4,
  "nbformat_minor": 0,
  "metadata": {
    "colab": {
      "provenance": []
    },
    "kernelspec": {
      "name": "python3",
      "display_name": "Python 3"
    },
    "language_info": {
      "name": "python"
    }
  },
  "cells": [
    {
      "cell_type": "code",
      "execution_count": 5,
      "metadata": {
        "colab": {
          "base_uri": "https://localhost:8080/",
          "height": 109
        },
        "id": "5PnWFNPZ_Jwp",
        "outputId": "cd24afeb-b7ac-4c56-fd8e-df7e9127bfee"
      },
      "outputs": [
        {
          "output_type": "error",
          "ename": "SyntaxError",
          "evalue": "invalid syntax (ipython-input-1669269126.py, line 1)",
          "traceback": [
            "\u001b[0;36m  File \u001b[0;32m\"/tmp/ipython-input-1669269126.py\"\u001b[0;36m, line \u001b[0;32m1\u001b[0m\n\u001b[0;31m    BFS AND DFS\u001b[0m\n\u001b[0m        ^\u001b[0m\n\u001b[0;31mSyntaxError\u001b[0m\u001b[0;31m:\u001b[0m invalid syntax\n"
          ]
        }
      ],
      "source": [
        "BFS AND DFS"
      ]
    },
    {
      "cell_type": "code",
      "source": [
        "from collections import deque   # import deque at the top\n",
        "\n",
        "# Step 1: Graph data (Adjacency List)\n",
        "pakistan_cities = {\n",
        "    'Karachi': ['Hyderabad'],\n",
        "    'Hyderabad': ['Karachi', 'Sukkur'],\n",
        "    'Sukkur': ['Hyderabad', 'Multan', 'Quetta'],\n",
        "    'Multan': ['Sukkur', 'Lahore'],\n",
        "    'Quetta': ['Sukkur'],\n",
        "    'Lahore': ['Multan', 'Islamabad'],\n",
        "    'Islamabad': ['Lahore', 'Peshawar'],\n",
        "    'Peshawar': ['Islamabad']\n",
        "}\n",
        "\n",
        "# Step 2: BFS Implementation (Shortest Path)\n",
        "def bfs_shortest_path(graph, start, goal):\n",
        "    queue = deque([[start]])  # Start with a path containing only the start node\n",
        "    visited = set()\n",
        "\n",
        "    while queue:\n",
        "        path = queue.popleft()\n",
        "        current_city = path[-1]\n",
        "\n",
        "        if current_city == goal:\n",
        "            return path\n",
        "\n",
        "        if current_city not in visited:\n",
        "            visited.add(current_city)\n",
        "            for neighbor in graph.get(current_city, []):\n",
        "                new_path = list(path)\n",
        "                new_path.append(neighbor)\n",
        "                queue.append(new_path)\n",
        "\n",
        "    return None  # No path found\n",
        "\n",
        "# Step 3: DFS Implementation (Any Path)\n",
        "def dfs_path(graph, start, goal, path=None, visited=None):\n",
        "    if path is None:\n",
        "        path = []\n",
        "    if visited is None:\n",
        "        visited = set()\n",
        "\n",
        "    path.append(start)\n",
        "    visited.add(start)\n",
        "\n",
        "    if start == goal:\n",
        "        return path\n",
        "\n",
        "    for neighbor in graph.get(start, []):\n",
        "        if neighbor not in visited:\n",
        "            result = dfs_path(graph, neighbor, goal, path.copy(), visited.copy())\n",
        "            if result:\n",
        "                return result\n",
        "\n",
        "    return None  # No path found\n",
        "\n",
        "# Step 4: Ask the user for start and goal cities\n",
        "print(\"Available cities:\", \", \".join(pakistan_cities.keys()))\n",
        "start_city = input(\"Enter the start city: \").strip()\n",
        "goal_city = input(\"Enter the goal city: \").strip()\n",
        "\n",
        "# Check if start and goal exist in the graph\n",
        "if start_city not in pakistan_cities or goal_city not in pakistan_cities:\n",
        "    print(\"One or both cities not found in the graph.\")\n",
        "else:\n",
        "    # BFS for the shortest path\n",
        "    bfs_result = bfs_shortest_path(pakistan_cities, start_city, goal_city)\n",
        "    print(f\"BFS Shortest Path from {start_city} to {goal_city}:\", bfs_result)\n",
        "\n",
        "    # DFS for any path\n",
        "    dfs_result = dfs_path(pakistan_cities, start_city, goal_city)\n",
        "    print(f\"DFS Path from {start_city} to {goal_city}:\", dfs_result)\n"
      ],
      "metadata": {
        "colab": {
          "base_uri": "https://localhost:8080/"
        },
        "id": "PzL0PzfsIhYW",
        "outputId": "7525ee1e-fb2a-4972-c4fb-1bb80340ea93"
      },
      "execution_count": null,
      "outputs": [
        {
          "output_type": "stream",
          "name": "stdout",
          "text": [
            "Available cities: Karachi, Hyderabad, Sukkur, Multan, Quetta, Lahore, Islamabad, Peshawar\n"
          ]
        }
      ]
    }
  ]
}